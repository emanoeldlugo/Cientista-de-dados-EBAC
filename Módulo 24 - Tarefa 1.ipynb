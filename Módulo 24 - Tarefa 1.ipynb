{
 "cells": [
  {
   "cell_type": "markdown",
   "id": "35f5365a",
   "metadata": {},
   "source": [
    "# Diferenças entre RandomForest e Adaboost\n",
    "\n",
    "## 1\n",
    "No RF, é uma floresta de árvores, que podem ter diversos folhas e maior profundidade, já no Adaboost são uma floresta de Stumps, que são classificações que sempre tem 1 de profundidade e no máximo 2 folhas.\n",
    "\n",
    "## 2\n",
    "No RF, as árvores são independentes, uma não depende da outra para o processo de treinamento, já no Adaboost a árvore subsequente sempre depende da anterior, ou seja, todas elas tem uma dependência sequencial.\n",
    "\n",
    "## 3\n",
    "No RF, são considerados todas árvores para a classificação/resultado final do modelo, no Adaboost isso é atribuído ponderadamente por pesos, para considerar apenas os modelos/stumps considerados mais úteis.\n",
    "\n",
    "## 4\n",
    "No RF, é feita uma amostragem com reposição para cada base learner, porém, com um peso igual para todas, já na amostragem com reposição do Adaboost é feito de uma forma onde o modelo prioriza linhas do modelo que ainda não foram explicadas para criar os base learners.\n",
    "\n",
    "## 5\n",
    "Podemos concluir que o RF é mais generalista, ele até pode ser bom em alguns casos, porém o Adaboost tem o poder de fazer uma classificação com bastante acurácia e menor chances de overfittar."
   ]
  },
  {
   "cell_type": "markdown",
   "id": "f052c970",
   "metadata": {},
   "source": [
    "# Código de Exemplo Execução Adaboost"
   ]
  },
  {
   "cell_type": "code",
   "execution_count": 5,
   "id": "9fd25dea",
   "metadata": {},
   "outputs": [
    {
     "data": {
      "text/plain": [
       "np.float64(0.9533333333333334)"
      ]
     },
     "execution_count": 5,
     "metadata": {},
     "output_type": "execute_result"
    }
   ],
   "source": [
    "from sklearn.model_selection import cross_val_score\n",
    "from sklearn.datasets import load_iris\n",
    "from sklearn.ensemble import AdaBoostClassifier\n",
    "import numpy as np\n",
    "\n",
    "X, y = load_iris(return_X_y=True)\n",
    "clf = AdaBoostClassifier(n_estimators=100)\n",
    "scores = cross_val_score(clf, X, y, cv=5)\n",
    "scores.mean()"
   ]
  },
  {
   "cell_type": "markdown",
   "id": "864c7d1d",
   "metadata": {},
   "source": [
    "## Hyperparâmetros Adaboost\n",
    "1 - n_estimators: é o número de weak learners que serão criados.  \n",
    "2 - learning_rate: é o quanto cada weak learner vai contribuir para a combinação final.  \n",
    "3 - estimator: pode ser escolhido o tipo do weak learner utilizado.  \n",
    "4 - max_depth: dependendo do tipo de modelo pode ser usado, é a profundidade.  \n",
    "5 - min_samples_split: dependendo do tipo de modelo pode ser usado, para ter um número mínimo de folhas.  "
   ]
  }
 ],
 "metadata": {
  "kernelspec": {
   "display_name": "Python 3",
   "language": "python",
   "name": "python3"
  },
  "language_info": {
   "codemirror_mode": {
    "name": "ipython",
    "version": 3
   },
   "file_extension": ".py",
   "mimetype": "text/x-python",
   "name": "python",
   "nbconvert_exporter": "python",
   "pygments_lexer": "ipython3",
   "version": "3.12.6"
  }
 },
 "nbformat": 4,
 "nbformat_minor": 5
}
