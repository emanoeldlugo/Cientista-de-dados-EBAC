{
 "cells": [
  {
   "cell_type": "markdown",
   "id": "46cf4bdb",
   "metadata": {
    "vscode": {
     "languageId": "plaintext"
    }
   },
   "source": [
    "# Random Forest\n",
    "É a prática da execução do modelo em várias versões diferentes da mesma base de dados, para ter mais solidez e calibragem na hora de responder o problema no qual está sendo estudado."
   ]
  },
  {
   "cell_type": "markdown",
   "id": "ccb2a71b",
   "metadata": {},
   "source": [
    "# Passo 1 - Bootstrap + Feature Selection\n",
    "Etapa onde é feito a amostragem com reposição a partir da base de dados original, a base deve ser dividido entre 2 ou mais bases para formar os modelos posteriormente, e também selecionando as features aleatoriamente dentro da base.\n",
    "\n",
    "# Passo 2 - Modelagem\n",
    "Para cada base de dados que foi criada a partir da original, é rodada o mesmo modelo, sendo sempre uma Árvore de regressão.\n",
    "\n",
    "# Passo 3 - Agregação\n",
    "É feita uma agregação entre os modelos treinados para se chegar a um denominador comum entre eles, e ter uma resposta mais calibrada para o problema no qual deve ser resolvido pelo modelo.\n",
    "\n"
   ]
  },
  {
   "cell_type": "markdown",
   "id": "a1d346e5",
   "metadata": {
    "vscode": {
     "languageId": "plaintext"
    }
   },
   "source": [
    "# Diferença entre Bagging e Random Forest\n",
    "Existem duas diferenças entre eles, uma sendo que o modelo de execução nos Base Learners sempre será uma Árvore de decisão em Random Forest, e na random Forest também são selecionadas as Features de forma aleatória."
   ]
  }
 ],
 "metadata": {
  "language_info": {
   "name": "python"
  }
 },
 "nbformat": 4,
 "nbformat_minor": 5
}
