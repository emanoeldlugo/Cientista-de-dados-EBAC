{
 "cells": [
  {
   "cell_type": "markdown",
   "id": "a43382fe",
   "metadata": {},
   "source": [
    "#### <span style=\"color:#2e5673; font-weight:bold;\">Fórmula de Bhaskara</span>\n",
    "\n",
    "A solução para uma função de segundo grau depende das suas raízes (valores de x). Como já vimos, os coeficientes\\\n",
    "precisam ser números reais e o angular diferente de zero. Sendo assim, temos a seguinte fórmula de Bhaskara:\n",
    "\n",
    "$$\n",
    "\\text{x} = \\frac{-b \\pm \\sqrt{b^2 - 4.a.c}}{2.a}\n",
    "$$\n",
    "\n",
    "$$\n",
    "\\textit{Fórmula de Bhaskara.}\n",
    "$$\n",
    "\n",
    "Para melhor compreensão o seu cálculo é dividido em duas partes: discriminante da equação e operações para\\\n",
    "determinar as raízes.\n",
    "\n",
    "<span style=\"font-weight:bold;\">Discriminante</span>\n",
    "\n",
    "A figura dentro da raiz na fórmula de Bhaskara é nomeada de discriminante. Seu símbolo é a letra grega delta e\\\n",
    "apresenta a determinada fórmula:\n",
    "\n",
    "$$\n",
    "\\Large\n",
    "\\Delta = b^2 - 4ac\n",
    "$$\n",
    "\n",
    "$$\n",
    "\\textit{Fórmula da discriminante.}\n",
    "$$\n",
    "\n",
    "- Se o delta for maior que zero, a equação terá dois valores reais e distintos. \n",
    "- Se o delta for igual a zero, a equação terá somente um valor real ou dois resultados iguais. \n",
    "- Se o delta for menor que zero, a equação não possuirá valores reais. "
   ]
  }
 ],
 "metadata": {
  "language_info": {
   "name": "python"
  }
 },
 "nbformat": 4,
 "nbformat_minor": 5
}
