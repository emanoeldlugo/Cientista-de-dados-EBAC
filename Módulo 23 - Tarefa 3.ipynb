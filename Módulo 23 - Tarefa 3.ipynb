{
 "cells": [
  {
   "cell_type": "markdown",
   "id": "10db0332",
   "metadata": {},
   "source": [
    "# Parâmetro: \"max_features\"\n",
    "Este é usado para determinar o número máximo de colunas do dataset que será usado em cada Base Learner."
   ]
  },
  {
   "cell_type": "markdown",
   "id": "7302edaf",
   "metadata": {},
   "source": [
    "# Parâmetro: \"min_samples_leaf\"\n",
    "Este é usado para determinar o número mínimo de elementos que se deve ter nas folhas."
   ]
  },
  {
   "cell_type": "markdown",
   "id": "9aeaef9c",
   "metadata": {
    "vscode": {
     "languageId": "plaintext"
    }
   },
   "source": [
    "# Parâmetro: \"max_depth\"\n",
    "Este é usado para determinar o máximo de camadas de profundidade."
   ]
  },
  {
   "cell_type": "markdown",
   "id": "3feb786d",
   "metadata": {
    "vscode": {
     "languageId": "plaintext"
    }
   },
   "source": [
    "# Parâmetro: \"n_estimators\"\n",
    "Este é usado para determinar a quantidade de Base Learners(Árvores) que serão criadas a partir do dataset.\n",
    "\n"
   ]
  },
  {
   "cell_type": "markdown",
   "id": "2aabc6ee",
   "metadata": {
    "vscode": {
     "languageId": "plaintext"
    }
   },
   "source": [
    "## Todos esses hyperparâmetros são usados para evitar o overfitting do modelo "
   ]
  }
 ],
 "metadata": {
  "language_info": {
   "name": "python"
  }
 },
 "nbformat": 4,
 "nbformat_minor": 5
}
