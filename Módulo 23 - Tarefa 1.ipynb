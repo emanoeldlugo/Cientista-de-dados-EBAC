{
 "cells": [
  {
   "cell_type": "markdown",
   "id": "46cf4bdb",
   "metadata": {
    "vscode": {
     "languageId": "plaintext"
    }
   },
   "source": [
    "# Bagging\n",
    "É a prática da execução do modelo em várias versões diferentes da mesma base de dados, para ter mais solidez e calibragem na hora de responder o problema no qual está sendo estudado."
   ]
  },
  {
   "cell_type": "markdown",
   "id": "ccb2a71b",
   "metadata": {},
   "source": [
    "# Passo 1 - Bootstrap\n",
    "Etapa onde é feito a amostragem com reposição a partir da base de dados original, a base deve ser dividido entre 2 ou mais bases para formar os modelos posteriormente\n",
    "\n",
    "# Passo 2 - Modelagem\n",
    "Para cada base de dados que foi criada a partir da original, é rodada o mesmo modelo, seja ele uma Árvore de regressão, regressão linear, logística.\n",
    "\n",
    "# Passo 3 - Agregação\n",
    "É feita uma agregação entre os modelos treinados para se chegar a um denominador comum entre eles, e ter uma resposta mais calibrada para o problema no qual deve ser resolvido pelo modelo.\n",
    "\n"
   ]
  }
 ],
 "metadata": {
  "language_info": {
   "name": "python"
  }
 },
 "nbformat": 4,
 "nbformat_minor": 5
}
