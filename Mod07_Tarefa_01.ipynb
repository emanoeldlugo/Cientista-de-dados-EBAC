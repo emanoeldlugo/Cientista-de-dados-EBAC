{
  "cells": [
    {
      "cell_type": "code",
      "execution_count": 66,
      "metadata": {},
      "outputs": [],
      "source": [
        "import pandas as pd\n",
        "import numpy as np"
      ]
    },
    {
      "cell_type": "markdown",
      "metadata": {
        "id": "d8yCrvnM_2sd"
      },
      "source": [
        "# Módulo 07, Tarefa 01\n",
        "\n",
        "Vamos começar a mexer na nossa base de projeto? Já fizemos um exercício de montar a variável resposta, já pudemos perceber que essa atividade pode não ser trivial. Vamos agora trabalhar a base para que fique propícia ao *scikitlearn* para trabalharmos.\n",
        "\n",
        "Lembrando, a base se chama demo01.csv, e originalmente está publicada [aqui](https://www.kaggle.com/rikdifos/credit-card-approval-prediction)."
      ]
    },
    {
      "cell_type": "markdown",
      "metadata": {
        "id": "hcMBVVE8_2sg"
      },
      "source": [
        "#### 1) Carregue a base e avalie:\n",
        "\n",
        "- As variáveis\n",
        "- Tipos de dados de cada variável\n",
        "- Quantidade de missings\n",
        "- Distribuição da variável resposta (mau)"
      ]
    },
    {
      "cell_type": "code",
      "execution_count": 79,
      "metadata": {
        "id": "jfUxW_PX_2sh"
      },
      "outputs": [
        {
          "name": "stdout",
          "output_type": "stream",
          "text": [
            "<class 'pandas.core.frame.DataFrame'>\n",
            "RangeIndex: 16650 entries, 0 to 16649\n",
            "Data columns (total 16 columns):\n",
            " #   Column                 Non-Null Count  Dtype  \n",
            "---  ------                 --------------  -----  \n",
            " 0   sexo                   16650 non-null  object \n",
            " 1   posse_de_veiculo       16650 non-null  object \n",
            " 2   posse_de_imovel        16650 non-null  object \n",
            " 3   qtd_filhos             16650 non-null  int64  \n",
            " 4   tipo_renda             16650 non-null  object \n",
            " 5   educacao               16650 non-null  object \n",
            " 6   estado_civil           16650 non-null  object \n",
            " 7   tipo_residencia        16650 non-null  object \n",
            " 8   idade                  16650 non-null  float64\n",
            " 9   tempo_emprego          16650 non-null  float64\n",
            " 10  possui_celular         16650 non-null  int64  \n",
            " 11  possui_fone_comercial  16650 non-null  int64  \n",
            " 12  possui_fone            16650 non-null  int64  \n",
            " 13  possui_email           16650 non-null  int64  \n",
            " 14  qt_pessoas_residencia  16650 non-null  float64\n",
            " 15  mau                    16650 non-null  bool   \n",
            "dtypes: bool(1), float64(3), int64(5), object(7)\n",
            "memory usage: 1.9+ MB\n"
          ]
        }
      ],
      "source": [
        "df = pd.read_csv('demo01.csv')\n",
        "df.info()\n",
        "## Não há missings na base de dados\n",
        "## Há bastantes variáveis do tipo object"
      ]
    },
    {
      "cell_type": "code",
      "execution_count": 75,
      "metadata": {},
      "outputs": [
        {
          "data": {
            "text/plain": [
              "mau\n",
              "False    0.976577\n",
              "True     0.023423\n",
              "Name: proportion, dtype: float64"
            ]
          },
          "execution_count": 75,
          "metadata": {},
          "output_type": "execute_result"
        }
      ],
      "source": [
        "df['mau'].value_counts(normalize=True)"
      ]
    },
    {
      "cell_type": "markdown",
      "metadata": {
        "id": "_v0f02mE_2si"
      },
      "source": [
        "#### 2) Vamos montar um metadados\n",
        "\n",
        "1. Crie um dataframe com os nomes de cada variável e o tipo de dados de cada variável.\n",
        "2. Adicione uma coluna nesse *dataframe* chamada \"qtd_categorias\" e coloque nela o número de categorias correspondente de cada variável.\n",
        "    Dica:\n",
        "        1. inicie uma lista vazia\n",
        "        2. faça um for ao longo dos nomes das variáveis,\n",
        "        3. conte o número de categorias dessa variável\n",
        "        4. acumule essa informação de 3. na lista que você criou em 1.\n",
        "        5. No final, essa lista pode ser atribuída à nossa variável."
      ]
    },
    {
      "cell_type": "code",
      "execution_count": 76,
      "metadata": {
        "id": "gNF5BRdA_2si"
      },
      "outputs": [
        {
          "data": {
            "text/html": [
              "<div>\n",
              "<style scoped>\n",
              "    .dataframe tbody tr th:only-of-type {\n",
              "        vertical-align: middle;\n",
              "    }\n",
              "\n",
              "    .dataframe tbody tr th {\n",
              "        vertical-align: top;\n",
              "    }\n",
              "\n",
              "    .dataframe thead th {\n",
              "        text-align: right;\n",
              "    }\n",
              "</style>\n",
              "<table border=\"1\" class=\"dataframe\">\n",
              "  <thead>\n",
              "    <tr style=\"text-align: right;\">\n",
              "      <th></th>\n",
              "      <th>qtd_categorias</th>\n",
              "      <th>tipo</th>\n",
              "    </tr>\n",
              "  </thead>\n",
              "  <tbody>\n",
              "    <tr>\n",
              "      <th>sexo</th>\n",
              "      <td>2</td>\n",
              "      <td>object</td>\n",
              "    </tr>\n",
              "    <tr>\n",
              "      <th>posse_de_veiculo</th>\n",
              "      <td>2</td>\n",
              "      <td>object</td>\n",
              "    </tr>\n",
              "    <tr>\n",
              "      <th>posse_de_imovel</th>\n",
              "      <td>2</td>\n",
              "      <td>object</td>\n",
              "    </tr>\n",
              "    <tr>\n",
              "      <th>qtd_filhos</th>\n",
              "      <td>8</td>\n",
              "      <td>int64</td>\n",
              "    </tr>\n",
              "    <tr>\n",
              "      <th>tipo_renda</th>\n",
              "      <td>5</td>\n",
              "      <td>object</td>\n",
              "    </tr>\n",
              "    <tr>\n",
              "      <th>educacao</th>\n",
              "      <td>5</td>\n",
              "      <td>object</td>\n",
              "    </tr>\n",
              "    <tr>\n",
              "      <th>estado_civil</th>\n",
              "      <td>5</td>\n",
              "      <td>object</td>\n",
              "    </tr>\n",
              "    <tr>\n",
              "      <th>tipo_residencia</th>\n",
              "      <td>6</td>\n",
              "      <td>object</td>\n",
              "    </tr>\n",
              "    <tr>\n",
              "      <th>idade</th>\n",
              "      <td>5298</td>\n",
              "      <td>float64</td>\n",
              "    </tr>\n",
              "    <tr>\n",
              "      <th>tempo_emprego</th>\n",
              "      <td>3005</td>\n",
              "      <td>float64</td>\n",
              "    </tr>\n",
              "    <tr>\n",
              "      <th>possui_celular</th>\n",
              "      <td>1</td>\n",
              "      <td>int64</td>\n",
              "    </tr>\n",
              "    <tr>\n",
              "      <th>possui_fone_comercial</th>\n",
              "      <td>2</td>\n",
              "      <td>int64</td>\n",
              "    </tr>\n",
              "    <tr>\n",
              "      <th>possui_fone</th>\n",
              "      <td>2</td>\n",
              "      <td>int64</td>\n",
              "    </tr>\n",
              "    <tr>\n",
              "      <th>possui_email</th>\n",
              "      <td>2</td>\n",
              "      <td>int64</td>\n",
              "    </tr>\n",
              "    <tr>\n",
              "      <th>qt_pessoas_residencia</th>\n",
              "      <td>9</td>\n",
              "      <td>float64</td>\n",
              "    </tr>\n",
              "    <tr>\n",
              "      <th>mau</th>\n",
              "      <td>2</td>\n",
              "      <td>bool</td>\n",
              "    </tr>\n",
              "  </tbody>\n",
              "</table>\n",
              "</div>"
            ],
            "text/plain": [
              "                      qtd_categorias     tipo\n",
              "sexo                               2   object\n",
              "posse_de_veiculo                   2   object\n",
              "posse_de_imovel                    2   object\n",
              "qtd_filhos                         8    int64\n",
              "tipo_renda                         5   object\n",
              "educacao                           5   object\n",
              "estado_civil                       5   object\n",
              "tipo_residencia                    6   object\n",
              "idade                           5298  float64\n",
              "tempo_emprego                   3005  float64\n",
              "possui_celular                     1    int64\n",
              "possui_fone_comercial              2    int64\n",
              "possui_fone                        2    int64\n",
              "possui_email                       2    int64\n",
              "qt_pessoas_residencia              9  float64\n",
              "mau                                2     bool"
            ]
          },
          "execution_count": 76,
          "metadata": {},
          "output_type": "execute_result"
        }
      ],
      "source": [
        "## Aqui crio um dicionário para cada variável contendo o tipo da variável e a quantidade de cateogiras de cada um, criando um DataFrame transposto.\n",
        "categorias = {}\n",
        "for i in df:\n",
        "    categorias[i] = [df[i].nunique(), df[i].dtype]\n",
        "                     \n",
        "categorias = pd.DataFrame(categorias).transpose()\n",
        "categorias.columns = ['qtd_categorias', 'tipo']\n",
        "categorias"
      ]
    },
    {
      "cell_type": "markdown",
      "metadata": {
        "id": "h0XKJFhY_2si"
      },
      "source": [
        "#### 3) Crie variáveis dummy para as variáveis necessárias (i.e. aquelas que são qualitativas e não estão armazenadas como {0, 1} ou {True, False}. Crie um *dataframe* apenas com as variáveis apropriadas para entrada no scikitlearn - elimine as variáveis tipo *str*, mantendo apenas suas versões *dummy*."
      ]
    },
    {
      "cell_type": "code",
      "execution_count": 71,
      "metadata": {},
      "outputs": [
        {
          "name": "stdout",
          "output_type": "stream",
          "text": [
            "['M' 'F']\n",
            "['Y' 'N']\n",
            "['Y' 'N']\n",
            "['Working' 'Commercial associate' 'State servant' 'Pensioner' 'Student']\n",
            "['Secondary / secondary special' 'Higher education' 'Incomplete higher'\n",
            " 'Lower secondary' 'Academic degree']\n",
            "['Married' 'Single / not married' 'Civil marriage' 'Widow' 'Separated']\n",
            "['House / apartment' 'Rented apartment' 'Municipal apartment'\n",
            " 'With parents' 'Co-op apartment' 'Office apartment']\n",
            "['Secondary / secondary special' 'Higher education' 'Incomplete higher'\n",
            " 'Lower secondary' 'Academic degree']\n"
          ]
        }
      ],
      "source": [
        "## Verificando quais variáveis irei aplicar '.map' e quais vou aplicar '.get_dummies'\n",
        "print(df['sexo'].unique())\n",
        "print(df['posse_de_veiculo'].unique())\n",
        "print(df['posse_de_imovel'].unique())\n",
        "print(df['tipo_renda'].unique())\n",
        "print(df['educacao'].unique())\n",
        "print(df['estado_civil'].unique())\n",
        "print(df['tipo_residencia'].unique())\n",
        "print(df['educacao'].unique())"
      ]
    },
    {
      "cell_type": "code",
      "execution_count": 80,
      "metadata": {
        "id": "ePbdZDOi_2sj"
      },
      "outputs": [
        {
          "name": "stdout",
          "output_type": "stream",
          "text": [
            "<class 'pandas.core.frame.DataFrame'>\n",
            "RangeIndex: 16650 entries, 0 to 16649\n",
            "Data columns (total 16 columns):\n",
            " #   Column                 Non-Null Count  Dtype  \n",
            "---  ------                 --------------  -----  \n",
            " 0   sexo                   16650 non-null  int64  \n",
            " 1   posse_de_veiculo       16650 non-null  int64  \n",
            " 2   posse_de_imovel        16650 non-null  int64  \n",
            " 3   qtd_filhos             16650 non-null  int64  \n",
            " 4   tipo_renda             16650 non-null  object \n",
            " 5   educacao               16650 non-null  object \n",
            " 6   estado_civil           16650 non-null  object \n",
            " 7   tipo_residencia        16650 non-null  object \n",
            " 8   idade                  16650 non-null  float64\n",
            " 9   tempo_emprego          16650 non-null  float64\n",
            " 10  possui_celular         16650 non-null  int64  \n",
            " 11  possui_fone_comercial  16650 non-null  int64  \n",
            " 12  possui_fone            16650 non-null  int64  \n",
            " 13  possui_email           16650 non-null  int64  \n",
            " 14  qt_pessoas_residencia  16650 non-null  float64\n",
            " 15  mau                    16650 non-null  bool   \n",
            "dtypes: bool(1), float64(3), int64(8), object(4)\n",
            "memory usage: 1.9+ MB\n"
          ]
        }
      ],
      "source": [
        "## Aplicando '.map' nas variáveis que possuem 2 variações.\n",
        "df['sexo'] = df['sexo'].map({'M': 0, 'F': 1})\n",
        "df['posse_de_veiculo'] = df['posse_de_veiculo'].map({'N': 0, 'Y': 1})\n",
        "df['posse_de_imovel'] = df['posse_de_imovel'].map({'N': 0, 'Y': 1})\n",
        "df.info()"
      ]
    },
    {
      "cell_type": "code",
      "execution_count": 81,
      "metadata": {},
      "outputs": [
        {
          "name": "stdout",
          "output_type": "stream",
          "text": [
            "<class 'pandas.core.frame.DataFrame'>\n",
            "RangeIndex: 16650 entries, 0 to 16649\n",
            "Data columns (total 33 columns):\n",
            " #   Column                                  Non-Null Count  Dtype  \n",
            "---  ------                                  --------------  -----  \n",
            " 0   sexo                                    16650 non-null  int64  \n",
            " 1   posse_de_veiculo                        16650 non-null  int64  \n",
            " 2   posse_de_imovel                         16650 non-null  int64  \n",
            " 3   qtd_filhos                              16650 non-null  int64  \n",
            " 4   idade                                   16650 non-null  float64\n",
            " 5   tempo_emprego                           16650 non-null  float64\n",
            " 6   possui_celular                          16650 non-null  int64  \n",
            " 7   possui_fone_comercial                   16650 non-null  int64  \n",
            " 8   possui_fone                             16650 non-null  int64  \n",
            " 9   possui_email                            16650 non-null  int64  \n",
            " 10  qt_pessoas_residencia                   16650 non-null  float64\n",
            " 11  mau                                     16650 non-null  bool   \n",
            " 12  tipo_renda_Pensioner                    16650 non-null  bool   \n",
            " 13  tipo_renda_State servant                16650 non-null  bool   \n",
            " 14  tipo_renda_Student                      16650 non-null  bool   \n",
            " 15  tipo_renda_Working                      16650 non-null  bool   \n",
            " 16  educacao_Higher education               16650 non-null  bool   \n",
            " 17  educacao_Incomplete higher              16650 non-null  bool   \n",
            " 18  educacao_Lower secondary                16650 non-null  bool   \n",
            " 19  educacao_Secondary / secondary special  16650 non-null  bool   \n",
            " 20  estado_civil_Married                    16650 non-null  bool   \n",
            " 21  estado_civil_Separated                  16650 non-null  bool   \n",
            " 22  estado_civil_Single / not married       16650 non-null  bool   \n",
            " 23  estado_civil_Widow                      16650 non-null  bool   \n",
            " 24  tipo_residencia_House / apartment       16650 non-null  bool   \n",
            " 25  tipo_residencia_Municipal apartment     16650 non-null  bool   \n",
            " 26  tipo_residencia_Office apartment        16650 non-null  bool   \n",
            " 27  tipo_residencia_Rented apartment        16650 non-null  bool   \n",
            " 28  tipo_residencia_With parents            16650 non-null  bool   \n",
            " 29  educacao_Higher education               16650 non-null  bool   \n",
            " 30  educacao_Incomplete higher              16650 non-null  bool   \n",
            " 31  educacao_Lower secondary                16650 non-null  bool   \n",
            " 32  educacao_Secondary / secondary special  16650 non-null  bool   \n",
            "dtypes: bool(22), float64(3), int64(8)\n",
            "memory usage: 1.7 MB\n"
          ]
        }
      ],
      "source": [
        "## Criando dummies para as demais variáveis.\n",
        "df_encoded = pd.get_dummies(df, columns=['tipo_renda', 'educacao', 'estado_civil', 'tipo_residencia', 'educacao'], drop_first=True)\n",
        "df_encoded.info()"
      ]
    },
    {
      "cell_type": "markdown",
      "metadata": {
        "id": "uhaqFcPE_2sj"
      },
      "source": [
        "#### 4) Qual variável é mais poderosa?\n",
        "\n",
        "Considere as variáveis ```possui_email``` e ```posse_de_veiculo```. Faça uma tabela cruzada entre elas e responda qual delas te parece mais poderosa para prever a probabilidade de ```mau = 1```?"
      ]
    },
    {
      "cell_type": "code",
      "execution_count": 101,
      "metadata": {
        "id": "3wUAHc_-_2sj"
      },
      "outputs": [
        {
          "data": {
            "text/html": [
              "<div>\n",
              "<style scoped>\n",
              "    .dataframe tbody tr th:only-of-type {\n",
              "        vertical-align: middle;\n",
              "    }\n",
              "\n",
              "    .dataframe tbody tr th {\n",
              "        vertical-align: top;\n",
              "    }\n",
              "\n",
              "    .dataframe thead th {\n",
              "        text-align: right;\n",
              "    }\n",
              "</style>\n",
              "<table border=\"1\" class=\"dataframe\">\n",
              "  <thead>\n",
              "    <tr style=\"text-align: right;\">\n",
              "      <th>mau</th>\n",
              "      <th>False</th>\n",
              "      <th>True</th>\n",
              "    </tr>\n",
              "    <tr>\n",
              "      <th>possui_email</th>\n",
              "      <th></th>\n",
              "      <th></th>\n",
              "    </tr>\n",
              "  </thead>\n",
              "  <tbody>\n",
              "    <tr>\n",
              "      <th>0</th>\n",
              "      <td>14810</td>\n",
              "      <td>360</td>\n",
              "    </tr>\n",
              "    <tr>\n",
              "      <th>1</th>\n",
              "      <td>1450</td>\n",
              "      <td>30</td>\n",
              "    </tr>\n",
              "  </tbody>\n",
              "</table>\n",
              "</div>"
            ],
            "text/plain": [
              "mau           False  True \n",
              "possui_email              \n",
              "0             14810    360\n",
              "1              1450     30"
            ]
          },
          "execution_count": 101,
          "metadata": {},
          "output_type": "execute_result"
        }
      ],
      "source": [
        "pd.crosstab(df['possui_email'],df['mau'])"
      ]
    },
    {
      "cell_type": "code",
      "execution_count": 102,
      "metadata": {},
      "outputs": [
        {
          "data": {
            "text/html": [
              "<div>\n",
              "<style scoped>\n",
              "    .dataframe tbody tr th:only-of-type {\n",
              "        vertical-align: middle;\n",
              "    }\n",
              "\n",
              "    .dataframe tbody tr th {\n",
              "        vertical-align: top;\n",
              "    }\n",
              "\n",
              "    .dataframe thead th {\n",
              "        text-align: right;\n",
              "    }\n",
              "</style>\n",
              "<table border=\"1\" class=\"dataframe\">\n",
              "  <thead>\n",
              "    <tr style=\"text-align: right;\">\n",
              "      <th>mau</th>\n",
              "      <th>False</th>\n",
              "      <th>True</th>\n",
              "    </tr>\n",
              "    <tr>\n",
              "      <th>posse_de_veiculo</th>\n",
              "      <th></th>\n",
              "      <th></th>\n",
              "    </tr>\n",
              "  </thead>\n",
              "  <tbody>\n",
              "    <tr>\n",
              "      <th>0</th>\n",
              "      <td>9931</td>\n",
              "      <td>247</td>\n",
              "    </tr>\n",
              "    <tr>\n",
              "      <th>1</th>\n",
              "      <td>6329</td>\n",
              "      <td>143</td>\n",
              "    </tr>\n",
              "  </tbody>\n",
              "</table>\n",
              "</div>"
            ],
            "text/plain": [
              "mau               False  True \n",
              "posse_de_veiculo              \n",
              "0                  9931    247\n",
              "1                  6329    143"
            ]
          },
          "execution_count": 102,
          "metadata": {},
          "output_type": "execute_result"
        }
      ],
      "source": [
        "pd.crosstab(df['posse_de_veiculo'],df['mau'])"
      ]
    },
    {
      "cell_type": "code",
      "execution_count": null,
      "metadata": {},
      "outputs": [],
      "source": [
        "## Olhando desta forma, houve mais vezes em que não tendo e-mail, ou seja, uma forma a menos de contato, se teve mais pessoas inadimplentes, isso é algo que pode impactar,\n",
        "## fazendo esta análise."
      ]
    },
    {
      "cell_type": "markdown",
      "metadata": {
        "id": "G2Issl2e_2sj"
      },
      "source": [
        "#### 5) Salve a base, pois ela será utilizada no final deste módulo."
      ]
    },
    {
      "cell_type": "code",
      "execution_count": 106,
      "metadata": {
        "id": "KSEj8OL9_2sk"
      },
      "outputs": [],
      "source": [
        "df_encoded.to_csv('base_modulo_7.csv', index=False)"
      ]
    }
  ],
  "metadata": {
    "colab": {
      "provenance": []
    },
    "kernelspec": {
      "display_name": "Python 3",
      "language": "python",
      "name": "python3"
    },
    "language_info": {
      "codemirror_mode": {
        "name": "ipython",
        "version": 3
      },
      "file_extension": ".py",
      "mimetype": "text/x-python",
      "name": "python",
      "nbconvert_exporter": "python",
      "pygments_lexer": "ipython3",
      "version": "3.12.3"
    }
  },
  "nbformat": 4,
  "nbformat_minor": 0
}
